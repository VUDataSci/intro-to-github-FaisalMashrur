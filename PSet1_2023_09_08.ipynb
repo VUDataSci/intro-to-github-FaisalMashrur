{
  "cells": [
    {
      "cell_type": "markdown",
      "metadata": {
        "id": "view-in-github",
        "colab_type": "text"
      },
      "source": [
        "<a href=\"https://colab.research.google.com/github/VUDataSci/intro-to-github-FaisalMashrur/blob/main/PSet1_2023_09_08.ipynb\" target=\"_parent\"><img src=\"https://colab.research.google.com/assets/colab-badge.svg\" alt=\"Open In Colab\"/></a>"
      ]
    },
    {
      "cell_type": "markdown",
      "metadata": {
        "id": "X4KAg1qwWLst"
      },
      "source": [
        "Problem set 1: Data importing and cleaning\n",
        "\n",
        "Due: 11:59pm on Friday, September 8 by uploading to github\n",
        "\n",
        "Your name:\n",
        "\n",
        "1. Data importing: \"data_finance.csv\" contains a dataset with information about sales transactions. Write the appropriate code for each of the tasks below. This section should be completed without generative AI, but with open access to static online resources like course material, stackoverflow, blogs with sample code, etc."
      ]
    },
    {
      "cell_type": "code",
      "execution_count": 3,
      "metadata": {
        "id": "VNactcgqW8by",
        "colab": {
          "base_uri": "https://localhost:8080/"
        },
        "outputId": "24f2b573-aa36-4269-b376-473fc1a22528"
      },
      "outputs": [
        {
          "output_type": "stream",
          "name": "stdout",
          "text": [
            "Requirement already satisfied: pandas in /usr/local/lib/python3.10/dist-packages (1.5.3)\n",
            "Requirement already satisfied: python-dateutil>=2.8.1 in /usr/local/lib/python3.10/dist-packages (from pandas) (2.8.2)\n",
            "Requirement already satisfied: pytz>=2020.1 in /usr/local/lib/python3.10/dist-packages (from pandas) (2023.3)\n",
            "Requirement already satisfied: numpy>=1.21.0 in /usr/local/lib/python3.10/dist-packages (from pandas) (1.23.5)\n",
            "Requirement already satisfied: six>=1.5 in /usr/local/lib/python3.10/dist-packages (from python-dateutil>=2.8.1->pandas) (1.16.0)\n",
            "    transaction_id          product_name  quantity  price\n",
            "0                1                 Apple         7  12.34\n",
            "1                2                Banana         2  19.05\n",
            "2                3                Cherry         9   5.81\n",
            "3                4                  Date         4   1.76\n",
            "4                5            Elderberry         8  10.45\n",
            "5                6                   Fig         3  18.22\n",
            "6                7                 Grape         1   7.09\n",
            "7                8              Honeydew         5  23.48\n",
            "8                9             Jackfruit        10   2.56\n",
            "9               10                  Kiwi         6   9.71\n",
            "10              11                 Lemon         7   4.23\n",
            "11              12                 Mango         3  14.12\n",
            "12              13             Nectarine         2   6.87\n",
            "13              14                Orange         6   3.14\n",
            "14              15                Papaya         9  22.77\n",
            "15              16                Quince         8   8.65\n",
            "16              17             Raspberry         4  16.98\n",
            "17              18            Strawberry         1   0.99\n",
            "18              19                Tomato         5  11.11\n",
            "19              20            Ugli fruit        10  20.43\n",
            "20              21          Vanilla bean         9  17.29\n",
            "21              22            Watermelon         8  13.67\n",
            "22              23                 Xigua         3  21.89\n",
            "23              24  Yellow passion fruit         2  15.54\n",
            "24              25              Zucchini         6  24.72\n",
            "Index(['transaction_id', 'product_name', 'quantity', 'price'], dtype='object')\n",
            "<class 'pandas.core.frame.DataFrame'>\n",
            "RangeIndex: 25 entries, 0 to 24\n",
            "Data columns (total 4 columns):\n",
            " #   Column          Non-Null Count  Dtype  \n",
            "---  ------          --------------  -----  \n",
            " 0   transaction_id  25 non-null     int64  \n",
            " 1   product_name    25 non-null     object \n",
            " 2   quantity        25 non-null     int64  \n",
            " 3   price           25 non-null     float64\n",
            "dtypes: float64(1), int64(2), object(1)\n",
            "memory usage: 928.0+ bytes\n",
            "None\n",
            "   transaction_id product_name  quantity  price\n",
            "0               1        Apple         7  12.34\n",
            "1               2       Banana         2  19.05\n",
            "2               3       Cherry         9   5.81\n",
            "3               4         Date         4   1.76\n",
            "4               5   Elderberry         8  10.45\n",
            "    transaction_id          product_name  quantity  price\n",
            "20              21          Vanilla bean         9  17.29\n",
            "21              22            Watermelon         8  13.67\n",
            "22              23                 Xigua         3  21.89\n",
            "23              24  Yellow passion fruit         2  15.54\n",
            "24              25              Zucchini         6  24.72\n",
            "    transaction_id product_name  quantity  price\n",
            "12              13    Nectarine         2   6.87\n",
            "2                3       Cherry         9   5.81\n",
            "17              18   Strawberry         1   0.99\n",
            "18              19       Tomato         5  11.11\n",
            "19              20   Ugli fruit        10  20.43\n",
            "(25, 4)\n",
            "        quantity      price\n",
            "count  25.000000  25.000000\n",
            "mean    5.520000  12.514800\n",
            "std     2.902872   7.346783\n",
            "min     1.000000   0.990000\n",
            "25%     3.000000   6.870000\n",
            "50%     6.000000  12.340000\n",
            "75%     8.000000  18.220000\n",
            "max    10.000000  24.720000\n"
          ]
        }
      ],
      "source": [
        "# Load the pandas library\n",
        "!pip install pandas\n",
        "import pandas as pd\n",
        "\n",
        "# Import the CSV file 'data_finance.csv' into a DataFrame\n",
        "data_finance = pd.read_csv(\"/content/data_finance.csv\")\n",
        "print(data)\n",
        "\n",
        "# Display the column names\n",
        "print(data_finance.columns)\n",
        "\n",
        "# Identify the data types of each column\n",
        "print(data_finance.info())\n",
        "\n",
        "# Display the first 5 rows of the DataFrame\n",
        "print(data_finance.head(5))\n",
        "\n",
        "# Display the last 5 rows of the DataFrame\n",
        "print(data_finance.tail(5))\n",
        "\n",
        "# Display a random sample of 5 rows\n",
        "print(data_finance.sample(5))\n",
        "\n",
        "# Calculate the total number of rows and columns in the DataFrame\n",
        "print(data_finance.shape)\n",
        "\n",
        "# Display summary statistics for the quantity and price columns\n",
        "print(data_finance[['quantity','price']].describe())"
      ]
    },
    {
      "cell_type": "markdown",
      "metadata": {
        "id": "k3x3SBG_blf2"
      },
      "source": [
        "2. Generative AI comparison. Use a reliable generative AI like ChatGPT, Claude, Bing, Jupyter AI, etc. to answer the same questions as Section 1. You should alter the prompt given to the AI to maximize the accuracy and efficiency of its output. Paste both your prompt and the generative AI's output below."
      ]
    },
    {
      "cell_type": "code",
      "execution_count": null,
      "metadata": {
        "id": "nxpB15SMbnmI"
      },
      "outputs": [],
      "source": [
        "# Prompt\n",
        "\n",
        "# AI generated code\n"
      ]
    },
    {
      "cell_type": "markdown",
      "metadata": {
        "id": "PZiy5JolYBnB"
      },
      "source": [
        "3. Data cleaning: \"data_students.tsv\" contains a dataset with information about students. Write the appropriate code for each of the tasks below. This section should be completed without generative AI, but with open access to static online resources like course material, stackoverflow, blogs with sample code, etc."
      ]
    },
    {
      "cell_type": "code",
      "execution_count": null,
      "metadata": {
        "id": "FW5woMoyYNd9"
      },
      "outputs": [],
      "source": [
        "\n",
        "# Import \"data_students.tsv\" into a dataframe\n",
        "\n",
        "\n",
        "# Rename the columns to improve machine and human-readability\n",
        "\n",
        "# Display the number of missing values in each column\n",
        "\n",
        "# Create a new column identifying whether the age column is missing\n",
        "\n",
        "# Replace missing values in the 'age' column with the mean age\n",
        "\n",
        "# Convert the 'gender' column to lowercase\n",
        "\n",
        "# Split the location column into separate columns for city and state\n",
        "\n",
        "# Save the cleaned data to a new CSV file with an appropriate name\n"
      ]
    },
    {
      "cell_type": "markdown",
      "metadata": {
        "id": "lcCTq1i-bzGI"
      },
      "source": [
        "4. Generative AI comparison. Use a reliable generative AI like ChatGPT, Claude, Bing, Jupyter AI, etc. to answer the same questions as Section 3. You should alter the prompt given to the AI to maximize the accuracy and efficiency of its output. Paste both your prompt and the generative AI's output below."
      ]
    },
    {
      "cell_type": "markdown",
      "metadata": {
        "id": "5rFyq2Oyb2dR"
      },
      "source": [
        "5. Generative AI evaluation. Compare the code you produced using static sources to that produced by the generative AI. Write 2-3 paragraphs evaluating the strengths and weaknesses of both approaches. In doing so, you should answer the following questions:\n",
        "* Having now seen the code produced by Generative AI, how would you have written your code differently?\n",
        "* Where does Generative AI excel, and where did it fall short?\n",
        "* What was important in writing your prompt?"
      ]
    }
  ],
  "metadata": {
    "colab": {
      "provenance": [],
      "include_colab_link": true
    },
    "kernelspec": {
      "display_name": "Python 3 (ipykernel)",
      "language": "python",
      "name": "python3"
    },
    "language_info": {
      "codemirror_mode": {
        "name": "ipython",
        "version": 3
      },
      "file_extension": ".py",
      "mimetype": "text/x-python",
      "name": "python",
      "nbconvert_exporter": "python",
      "pygments_lexer": "ipython3",
      "version": "3.11.4"
    }
  },
  "nbformat": 4,
  "nbformat_minor": 0
}